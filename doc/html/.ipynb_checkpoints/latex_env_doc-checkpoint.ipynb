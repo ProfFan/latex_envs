{
 "cells": [
  {
   "cell_type": "markdown",
   "metadata": {},
   "source": [
    "## Table of Contents\n",
    "* [1. Presentation and main features](#1.-Presentation-and-main-features)\n",
    "\t* [1.1 Implementation principle](#1.1-Implementation-principle)\n",
    "\t* [1.2 Support for simple LaTeX commands](#1.2-Support-for-simple-LaTeX-commands)\n",
    "\t* [1.3 Available environments](#1.3-Available-environments)\n",
    "\t* [1.4 Automatic numerotation, labels and references](#1.4-Automatic-numerotation,-labels-and-references)\n",
    "\t* [1.5 Bibliography](#1.5-Bibliography)\n",
    "\t\t* [1.5.1 Usage](#1.5.1-Usage)\n",
    "\t\t* [1.5.2 Implementation](#1.5.2-Implementation)\n",
    "\t* [1.6 Figure environment](#1.6-Figure-environment)\n",
    "\t* [1.7 Other features](#1.7-Other-features)\n",
    "\t* [1.8 User interface](#1.8-User-interface)\n",
    "\t\t* [1.8.1 Buttons on main toolbar](#1.8.1-Buttons-on-main-toolbar)\n",
    "\t\t* [1.8.2 Configuration toolbar](#1.8.2-Configuration-toolbar)\n",
    "* [2. Installation, usage and further examples](#2.-Installation,-usage-and-further-examples)\n",
    "\t* [2.1 Installation](#2.1-Installation)\n",
    "\t* [2.2 First example (continued)](#2.2-First-example-%28continued%29)\n",
    "\t* [2.3 Second example](#2.3-Second-example)\n",
    "\t* [2.4 Third example:](#2.4-Third-example:)\n",
    "* [3. (post)-Converters](#3.-%28post%29-Converters)\n",
    "\t* [3.1 Installation](#3.1-Installation)\n",
    "\t* [3.2 Conversion to html](#3.2-Conversion-to-html)\n",
    "\t* [3.3 Conversion to LaTeX](#3.3-Conversion-to-LaTeX)\n",
    "* [4. Disclaimer, sources and thanks](#4.-Disclaimer,-sources-and-thanks)\n"
   ]
  },
  {
   "cell_type": "markdown",
   "metadata": {},
   "source": [
    "<h1>  (some) LaTeX environments for Jupyter notebook </h1>"
   ]
  },
  {
   "cell_type": "code",
   "execution_count": 14,
   "metadata": {
    "collapsed": false
   },
   "outputs": [
    {
     "data": {
      "application/javascript": [
       "IPython.utils.load_extensions('calico-document-tools');"
      ],
      "text/plain": [
       "<IPython.core.display.Javascript object>"
      ]
     },
     "metadata": {},
     "output_type": "display_data"
    }
   ],
   "source": [
    "%%javascript \n",
    "IPython.utils.load_extensions('calico-document-tools');"
   ]
  },
  {
   "cell_type": "code",
   "execution_count": null,
   "metadata": {
    "collapsed": false
   },
   "outputs": [],
   "source": [
    "%%html\n",
    "<style>\n",
    "    .prompt{\n",
    "        display: none;\n",
    "    }    \n",
    "\n",
    "</style>"
   ]
  },
  {
   "cell_type": "markdown",
   "metadata": {},
   "source": [
    "# 1. Presentation and main features"
   ]
  },
  {
   "cell_type": "markdown",
   "metadata": {},
   "source": [
    "This extension for IPython 3.x or Jupyter enables to use some LaTeX commands and environments in the notebook's markdown cells. \n",
    "\\begin{enumerate}\n",
    "\\item **LaTeX commands and environments**\n",
    "\\begin{itemize}\n",
    "\\item support for some LaTeX commands within markdown cells, *e.g.* `\\textit`, `\\textbf`, `\\underline`\n",
    "\\item support for **theorems-like environments**\n",
    "\\item support for **lists**: *enumerate, itemize*,  \n",
    "\\item limited support for a **figure environment**,\n",
    "\\item support for an environment *listing*,\n",
    "\\item additional *textboxa* environment\n",
    "\\end{itemize}\n",
    "\\item **Citations and bibliography**\n",
    "\\begin{itemize}\n",
    "\\item support for `\\cite` with creation of a References section\n",
    "\\end{itemize}\n",
    "\\item **Document-wide numbering of equations, support for `\\label` and `\\ref`**\n",
    "\\item **Configuration toolbar**\n",
    "\\item Styles can be customized in the *latex_env.css* stylesheet\n",
    "\\end{enumerate}\n",
    "\n",
    "A simple illustration is as follows: on can type the following in a markdown cell\n",
    "\\begin{listing}\n",
    "\\begin{theorem} \\label{theo:dotp}\n",
    "Let $u$ and $v$ be two vectors of $\\mathbb{R}^n$. The dot product can be expressed as\n",
    "\\begin{equation}\n",
    "\\label{eq:dotp}\n",
    "u^Tv = |u||v| \\cos \\theta,\n",
    "\\end{equation}\n",
    "where $\\theta$ is the angle between $u$ and $v$ ...\n",
    "\\end{theorem}\n",
    "\\end{listing}\n",
    "and have it rendered as\n",
    "\n",
    "\\begin{theorem} \\label{theo:dotp}\n",
    "Let $u$ and $v$ be two vectors of $\\mathbb{R}^n$. The dot product can be expressed as\n",
    "\\begin{equation}\n",
    "\\label{eq:dotp}\n",
    "u^Tv = |u||v| \\cos \\theta,\n",
    "\\end{equation}\n",
    "where $\\theta$ is the angle between $u$ and $v$ ...\n",
    "\\end{theorem}"
   ]
  },
  {
   "cell_type": "markdown",
   "metadata": {},
   "source": [
    "## 1.1 Implementation principle"
   ]
  },
  {
   "cell_type": "markdown",
   "metadata": {},
   "source": [
    "The main idea is to override the standard Markdown renderer in order to add a *small* parsing of LaTeX expressions and environments. This heavily uses regular expressions. The LaTeX expression are then rendered using an html version. For instance `\\underline {something}` is rendered as `<u> something </u>`, that is \\underline{something}. The environments are replaced by an html tag with a class derived from the name of the environment. For example, a `definition` denvronment will be replaced by an html rendering corresponding to the class `latex_definition`. The styles associated with the different classes are sepcified in `latex_env.css`. These substitutions are implemented in `thsInNb4.js`."
   ]
  },
  {
   "cell_type": "markdown",
   "metadata": {},
   "source": [
    "## 1.2 Support for simple LaTeX commands"
   ]
  },
  {
   "cell_type": "markdown",
   "metadata": {},
   "source": [
    "We also added some LaTeX commands (e.g. `\\textit`, `\\textbf`, `\\underline`) -- this is useful in the case of copy-paste from a LaTeX document. Labels and references are supported, including for equations."
   ]
  },
  {
   "cell_type": "markdown",
   "metadata": {},
   "source": [
    "## 1.3 Available environments"
   ]
  },
  {
   "cell_type": "markdown",
   "metadata": {},
   "source": [
    "- **theorems-like environments**: *property, theorem, lemma, corollary, proposition, definition,remark, problem,           exercise, example*,\n",
    "- **lists**: *enumerate, itemize*,  \n",
    "- limited support for a *figure* environment,\n",
    "- an environment *listing*,\n",
    "- *textboxa*, wich is a `textbox` environment defined as a demonstration (see below).\n",
    "\n",
    "More environments can be added easily in the javascript source file `thmsInNb.js`. The rendering is done according to the stylesheet `latex_env.css`, which can be customized."
   ]
  },
  {
   "cell_type": "markdown",
   "metadata": {},
   "source": [
    "## 1.4 Automatic numerotation, labels and references"
   ]
  },
  {
   "cell_type": "markdown",
   "metadata": {},
   "source": [
    "Counters for numerotation are implemented: one for theorems-like environments, a second for exercises-like environments and a third one for numbering figures.   \n",
    "Mathjax-equations with a label are also numbered document-wide (in contrast with standard notebook/mathjax numbering where the scope of numbering is limited to cells). \n",
    "An anchor is created for any label which enables to links things within the document: `\\label` and `\\ref` are both supported. A limitation is that numbering is updated (incremented) each time a cell is rendered. A toolbar button is provided to reset the counters and refresh the rendering of the whole document."
   ]
  },
  {
   "cell_type": "markdown",
   "metadata": {},
   "source": [
    "A simple example is as follows, featuring automatic numerotation, and the use of labels and references. Also note that standard markdown can be present in the environment and is interpreted. \n",
    "*The rendering is done according to the stylesheet `latex_env.css`, which of course, can be tailored to specific uses and tastes*.  \n",
    "\n",
    "\\begin{listing}\n",
    "\\begin{definition} \\label{def:FT}\n",
    "Let $x[n]$ be a sequence of length $N$. Then, its **Fourier transform** is given by\n",
    "\\begin{equation}\n",
    "\\label{eq:FT}\n",
    "X[k]= \\frac{1}{N} \\sum_{n=0}^{N-1} x[n] e^{-j2\\pi \\frac{kn}{N}}\n",
    "\\end{equation}\n",
    "\\end{definition}\n",
    "\\end{listing}\n"
   ]
  },
  {
   "cell_type": "markdown",
   "metadata": {},
   "source": [
    "\n",
    "\\begin{definition} \\label{def:FT}\n",
    "Let $x[n]$ be a sequence of length $N$. Then, its **Fourier transform** is given by\n",
    "\\begin{equation}\n",
    "\\label{eq:FT2}\n",
    "X[k]= \\frac{1}{N} \\sum_{n=0}^{N-1} x[n] e^{-j2\\pi \\frac{kn}{N}}\n",
    "\\end{equation}\n",
    "\\end{definition}"
   ]
  },
  {
   "cell_type": "markdown",
   "metadata": {},
   "source": [
    "It is now possible to refer to the definition and to the equation by their labels,  as in:\n",
    "\\begin{listing}\n",
    "As an example of Definition \\ref{def:FT}, consider the Fourier transform (\\ref{eq:FT2}) of a pure cosine wave given by\n",
    "$$\n",
    "x[n]= \\cos(2\\pi k_0 n/N),\n",
    "$$\n",
    "where $k_0$ is an integer. \n",
    "\\end{listing}"
   ]
  },
  {
   "cell_type": "markdown",
   "metadata": {},
   "source": [
    "As an example of Definition \\ref{def:FT}, consider the Fourier transform (\\ref{eq:FT2}) of a pure cosine wave given by\n",
    "$$\n",
    "x[n]= \\cos(2\\pi k_0 n/N),\n",
    "$$\n",
    "where $k_0$ is an integer. \n",
    "Its Fourier transform is given by \n",
    "$$\n",
    "X[k] = \\frac{1}{2} \\left( \\delta[k-k_0] + \\delta[k-k_0] \\right), \n",
    "$$\n",
    "modulo $N$. "
   ]
  },
  {
   "cell_type": "markdown",
   "metadata": {},
   "source": [
    "## 1.5 Bibliography"
   ]
  },
  {
   "cell_type": "markdown",
   "metadata": {},
   "source": [
    "### 1.5.1 Usage"
   ]
  },
  {
   "cell_type": "markdown",
   "metadata": {},
   "source": [
    "It is possible to cite bibliographic references using the standard LaTeX `\\cite` mechanism. The extension looks for the references in a bibTeX file, by default `biblio.bib` in the same directory as the notebook. The name of this file can be modified in the configuration toolbar. It is then possible to cite works in the notebook, e.g. \n",
    "\\begin{listing}\n",
    "The main paper on IPython is definitively \\cite{PER-GRA:2007}. Other interesting references are certainly \\cite{mckinney2012python, rossant2013learning}. Interestingly, a presentation of the IPython notebook has also be published recently in Nature \\cite{shen2014interactive}.\n",
    "\\end{listing}\n",
    "The main paper on IPython is definitively \\cite{PER-GRA:2007}. Other interesting references are certainly \\cite{mckinney2012python, rossant2013learning}. Interestingly, a presentation of the IPython notebook has also be published recently in Nature \\cite{shen2014interactive}."
   ]
  },
  {
   "cell_type": "markdown",
   "metadata": {},
   "source": [
    "### 1.5.2 Implementation"
   ]
  },
  {
   "cell_type": "markdown",
   "metadata": {},
   "source": [
    "The implemention uses several snippets from the nice [icalico-document-tools](https://bitbucket.org/ipre/calico/downloads/) extension that also considers the rendering of citations in the notebook. We also use a modified version of the [bibtex-js](https://code.google.com/p/bibtex-js/) parser for reading the references in the bibTeX file. The different functions are implemented in `bibInNb4.js`. The rendering of citations calls can adopt three styles (Numbered, by key or apa-like) -- this can be selected in the configuration toolbar. It is also possible to customize the rendering of references in the reference list. A citation template is provided in the beginning of file `latex_envs.js`: \n",
    "```\n",
    "var cit_tpl = {\n",
    "// feel free to add more types and customize the templates\n",
    "    'INPROCEEDINGS': '%AUTHOR:InitialsGiven%, ``_%TITLE%_\\'\\', %BOOKTITLE%, %MONTH% %YEAR%.',\n",
    "    ... etc\n",
    "```\n",
    "The keys are the main types of documents, eg inproceedings, article, inbook, etc. To each key is associated a string where the %KEYWORDS% are the fields of the bibtex entry. The keywords are replaced by the correponding bibtex entry value. The template string can formatted with additional words and effects (markdown or LaTeX are commands are supported)"
   ]
  },
  {
   "cell_type": "markdown",
   "metadata": {},
   "source": [
    "## 1.6 Figure environment"
   ]
  },
  {
   "cell_type": "markdown",
   "metadata": {},
   "source": [
    "Finally, it is sometimes useful to integrate a figure within a markdown cell. The standard markdown markup for that is `![link](image)`, but a limitation is that the image can not be resized, can not be referenced and is not numbered. Furthermore it can be useful for re-using existing code. Threfore we have added a limited support for the `figure` environment. This enables to do something like\n",
    "\\begin{listing}\n",
    "\\begin{figure}\n",
    "\\centerline{\\includegraphics[width=10cm]{example.png}}\n",
    "\\caption{\\label{fig:example} This is an example of figure included using LaTeX commands.}\n",
    "\\end{figure}\n",
    "\\end{listing}\n",
    "which renders as\n",
    "\\begin{figure}\n",
    "\\centerline{\\includegraphics[width=10cm]{example.png}}\n",
    "\\caption{\\label{fig:example} This is an example of figure included using LaTeX commands.}\n",
    "\\end{figure}\n",
    "Of course, this Figure can now be referenced: \n",
    "\\begin{listing}\n",
    "Figure \\ref{fig:example} shows a second filter with input $X_2$, output $Y_2$  and an impulse response denoted as $h_2(n)$\n",
    "\\end{listing}\n",
    "Figure \\ref{fig:example} shows a second filter with input $X_2$, output $Y_2$  and an impulse response denoted as $h_2(n)$"
   ]
  },
  {
   "cell_type": "markdown",
   "metadata": {},
   "source": [
    "## 1.7 Other features"
   ]
  },
  {
   "cell_type": "markdown",
   "metadata": {},
   "source": [
    "- It is possible to mix LaTeX and markdown markup in environments  \n",
    "- Environments can be nested. However, this is not always perfect..."
   ]
  },
  {
   "cell_type": "markdown",
   "metadata": {},
   "source": [
    "## 1.8 User interface"
   ]
  },
  {
   "cell_type": "markdown",
   "metadata": {},
   "source": [
    "### 1.8.1 Buttons on main toolbar"
   ]
  },
  {
   "cell_type": "markdown",
   "metadata": {},
   "source": [
    "On the main toolbar, the extension provides three buttons ![three buttons](main_toolbar.png) The first one can be used to refresh the numerotation of equations and references in all the document. The second one fires the reading of the bibliography bibtex file and creates (or updates) the reference section. Finally the third one is a toogle button that opens or closes the configuration toolbar."
   ]
  },
  {
   "cell_type": "markdown",
   "metadata": {},
   "source": [
    "### 1.8.2 Configuration toolbar"
   ]
  },
  {
   "cell_type": "markdown",
   "metadata": {},
   "source": [
    "The configuration toolbar  ![configuration toolbar](configuration_toolbar.png) enables to enter some configuration options for the extension. First, one can indicate the name of the bibtex file. If this file is not found and the user creates the reference section, then this section will indicate that the file was not found. The references drop-down menu enables to choose the type of reference calls. The Equations input box enable to initiate numbering of equations at the given number (this may be useful for complex documents in several files/parts). Finally the last drop-down menu let the user choose to number equation or to display their label instead."
   ]
  },
  {
   "cell_type": "markdown",
   "metadata": {
    "collapsed": true
   },
   "source": [
    "# 2. Installation, usage and further examples"
   ]
  },
  {
   "cell_type": "markdown",
   "metadata": {},
   "source": [
    "## 2.1 Installation"
   ]
  },
  {
   "cell_type": "markdown",
   "metadata": {},
   "source": [
    "The extension consists in several javascript scripts: `latex_envs.js`, `thmsInNb4.js`, `bibInNb4.js` and `initNb.js`,  together with a stylesheet `latex_envs.css`. \n",
    "With Jupyter, you may also simply install the extension with\n",
    "```python\n",
    "from notebook.nbextensions import install_nbextension, check_nbextension\n",
    "install_nbextension(\"https://rawgit.com/jfbercher/latex_envs/latex_envs.zip\", user=True)\n",
    "```"
   ]
  },
  {
   "cell_type": "markdown",
   "metadata": {},
   "source": [
    "An even more simple procedure is to issue\n",
    "```\n",
    "jupyter nbextension install https://rawgit.com/jfbercher/latex_envs/latex_envs.zip  --user\n",
    "\n",
    "```\n",
    "at the command line."
   ]
  },
  {
   "cell_type": "markdown",
   "metadata": {},
   "source": [
    "If you are still with IPython 3, you can install with\n",
    "```python\n",
    "from IPython.html.nbextensions import install_nbextension, check_nbextension\n",
    "install_nbextension(\"https://rawgit.com/jfbercher/latex_envs/latex_envs.zip\", user=True)\n",
    "```"
   ]
  },
  {
   "cell_type": "markdown",
   "metadata": {},
   "source": [
    "You may then try the extension by loading it typing in a code cell of the notebook\n",
    "```python\n",
    "%%javascript\n",
    "require(\"base/js/utils\").load_extensions(\"latex_envs/latex_envs\")\n",
    "```"
   ]
  },
  {
   "cell_type": "markdown",
   "metadata": {},
   "source": [
    "If you want to automatically load the extension for any notebook, you may use\n",
    "```python\n",
    "from IPython.html.services.config import ConfigManager\n",
    "ip = get_ipython()\n",
    "cm = ConfigManager(parent=ip, profile_dir=ip.profile_dir.location)\n",
    "cm.update('notebook', {\"load_extensions\": {\"latex_envs/latex_envs_jup\": True}})\n",
    "```"
   ]
  },
  {
   "cell_type": "markdown",
   "metadata": {},
   "source": [
    "and replace the `True` by `None if you want to unload the extension. \n",
    "\n",
    "Alternatively you may also do this in javascript via\n",
    "```python\n",
    "%%javascript\n",
    "IPython.notebook.config.update({\"load_extensions\":{\"latex_envs/latex_envs_jup\":true}})\n",
    "```"
   ]
  },
  {
   "cell_type": "markdown",
   "metadata": {},
   "source": [
    "replace the `true` by `null` to unload. \n",
    "\n",
    "The last alternative is\n",
    "```\n",
    "jupyter nbextension enable latex_envs/latex_envs\n",
    "```"
   ]
  },
  {
   "cell_type": "markdown",
   "metadata": {},
   "source": [
    "and `disable` to disable it, of course."
   ]
  },
  {
   "cell_type": "markdown",
   "metadata": {},
   "source": [
    "You may follow the instructions in the [wiki](https://github.com/ipython-contrib/IPython-notebook-extensions/wiki) to install the extension."
   ]
  },
  {
   "cell_type": "markdown",
   "metadata": {},
   "source": [
    "## 2.2 First example (continued)"
   ]
  },
  {
   "cell_type": "markdown",
   "metadata": {},
   "source": [
    "We continue the first example on fthe Fourier transform definition \\ref{def:FT} in order to show that, of course, we can illustrate things using a simple code. Since the Fourier transform is an essential tool in signal processing, We put this in evidence using the `textboxa` environment -- which is defined here in the css, and that one should define in the LaTeX counterpart:\n",
    "\\begin{listing}\n",
    "\\begin{textboxa}\n",
    "The Fourier transform is an extremely useful tool to have in your toolbox!\n",
    "\\end{textboxa}\n",
    "\\end{listing}"
   ]
  },
  {
   "cell_type": "markdown",
   "metadata": {},
   "source": [
    "\\begin{textboxa}\n",
    "The Fourier transform is an extremely useful tool to have in your toolbox!\n",
    "\\end{textboxa}\n"
   ]
  },
  {
   "cell_type": "markdown",
   "metadata": {},
   "source": [
    "The Fourier transform of a pure cosine is given by \n",
    "$$\n",
    "X[k] = \\frac{1}{2} \\left( \\delta[k-k_0] + \\delta[k-k_0] \\right), \n",
    "$$\n",
    "modulo $N$. This is illustrated in the following simple script:"
   ]
  },
  {
   "cell_type": "code",
   "execution_count": 21,
   "metadata": {
    "collapsed": false
   },
   "outputs": [
    {
     "data": {
      "image/png": "[encoded data removed]",
      "text/plain": [
       "<matplotlib.figure.Figure at 0x7f486021e7b8>"
      ]
     },
     "metadata": {},
     "output_type": "display_data"
    }
   ],
   "source": [
    "%matplotlib inline\n",
    "import numpy as np\n",
    "import matplotlib.pyplot as plt \n",
    "from numpy.fft import fft\n",
    "k0=4; N=128; n=np.arange(N); k=np.arange(N)\n",
    "x=np.sin(2*np.pi*k0*n/N)\n",
    "X=fft(x)\n",
    "plt.stem(k,np.abs(X))\n",
    "plt.xlim([0, 20])\n",
    "plt.title(\"Fourier transform of a cosine\")\n",
    "_=plt.xlabel(\"Frequency index (k)\")"
   ]
  },
  {
   "cell_type": "markdown",
   "metadata": {},
   "source": [
    "## 2.3 Second example"
   ]
  },
  {
   "cell_type": "markdown",
   "metadata": {},
   "source": [
    "This example shows a series of environments, with different facets; **links, references, markdown or/and LaTeX formatting within environments**. Again, the rendering is done according to the stylesheet `latex_env.css`, which can be customized. The listing of environments below is typed using the environment *listing*..."
   ]
  },
  {
   "cell_type": "markdown",
   "metadata": {},
   "source": [
    "\\begin{listing}\n",
    "\\begin{definition} \\label{def:diffeq}\n",
    "We call \\textbf{difference equation} an equation of the form\n",
    "$$\n",
    "\\label{eq:diffeq}\n",
    "y[n]= \\sum_{k=1}^{p} a_k y[n-k] + \\sum_{i=0}^q b_i x[n-i]\n",
    "$$\n",
    "\\end{definition}\n",
    "\n",
    "\\begin{property}\n",
    "If all the $a_k$ in equation (\\ref{eq:diffeq}) of definition \\ref{def:diffeq} are zero, then the filter has a **finite impulse response**. \n",
    "\\end{property}\n",
    "\n",
    "\\begin{proof}\n",
    "Let $\\delta[n]$ denote the Dirac impulse. Take $x[n]=\\delta[n]$ in (\\ref{eq:diffeq}). This yields, by definition, the impulse response:\n",
    "$$\n",
    "\\label{eq:fir}\n",
    "h[n]= \\sum_{i=0}^q b_i \\delta[n-i],\n",
    "$$\n",
    "which has finite support. \n",
    "\\end{proof}\n",
    "\n",
    "\\begin{theorem}\n",
    "The poles of a causal stable filter are located within the unit circle in the complex plane.\n",
    "\\end{theorem}\n",
    "\n",
    "\\begin{example} \\label{ex:IIR1}\n",
    "Consider $y[n]= a y[n-1] +  x[n]$. The pole of the transfer function is $z=a$. The impulse response $h[n]=a^n$ has infinite support.\n",
    "\\end{example}\n",
    "\n",
    "In the following exercise, you will check that the filter is stable iff $a$<1.\n",
    "\n",
    "\\begin{exercise}\\label{ex:exofilter}\n",
    "Consider the filter defined in Example \\ref{ex:IIR1}. Using the **function** `lfilter` of scipy, compute and plot the impulse response for several values of $a$.\n",
    "\\end{exercise}\n",
    "\n",
    "\\end{listing}"
   ]
  },
  {
   "cell_type": "markdown",
   "metadata": {},
   "source": [
    "The lines above are rendered as follows (of course everything can be tailored in the stylesheet):\n",
    "\n",
    "\\begin{definition} \\label{def:diffeq}\n",
    "We call \\textbf{difference equation} an equation of the form\n",
    "\\begin{equation}\n",
    "\\label{eq:diffeq}\n",
    "y[n]= \\sum_{k=1}^{p} a_k y[n-k] + \\sum_{i=0}^q b_i x[n-i]\n",
    "\\end{equation}\n",
    "\\end{definition}\n",
    "Properties of the filter are linked to the coefficients of the difference equation. For instance, an immediate property is \n",
    "\n",
    "\\begin{property}\n",
    "If all the $a_k$ in equation (\\ref{eq:diffeq}) of definition \\ref{def:diffeq} are zero, then the filter has a **finite impulse response**. \n",
    "\\end{property}\n",
    "\n",
    "\\begin{proof}\n",
    "Let $\\delta[n]$ denote the Dirac impulse. Take $x[n]=\\delta[n]$ in (\\ref{eq:diffeq}). This yields, by definition, the impulse response:\n",
    "\\begin{equation}\n",
    "\\label{eq:fir}\n",
    "h[n]= \\sum_{i=0}^q b_i \\delta[n-i],\n",
    "\\end{equation}\n",
    "which has finite support. \n",
    "\\end{proof}\n",
    "\n",
    "\n",
    "\\begin{theorem}\n",
    "The poles of a causal stable filter are located within the unit circle in the complex plane.\n",
    "\\end{theorem}\n",
    "\n",
    "\n",
    "\\begin{example} \\label{ex:IIR1}\n",
    "Consider $y[n]= a y[n-1] +  x[n]$. The pole of the transfer function is $z=a$. The impulse response $h[n]=a^n$ has infinite support.\n",
    "\\end{example}\n",
    "\n",
    "In the following exercise, you will check that the filter is stable iff $a$<1.\n",
    "\n",
    "\\begin{exercise}\\label{ex:exofilter}\n",
    "Consider the filter defined in Example \\ref{ex:IIR1}. Using the **function** `lfilter` of scipy, compute and plot the impulse response for several values of $a$.\n",
    "\\end{exercise}\n",
    "\n"
   ]
  },
  {
   "cell_type": "markdown",
   "metadata": {},
   "source": [
    "\\begin{listing}\n",
    "The solution of exercise \\ref{ex:exofilter}, which uses a difference equation as in Definition \\ref{def:diffeq}:\n",
    "\\end{listing}\n",
    "The solution of exercise \\ref{ex:exofilter}, which uses a difference equation as in Definition \\ref{def:diffeq}:"
   ]
  },
  {
   "cell_type": "code",
   "execution_count": 22,
   "metadata": {
    "collapsed": false
   },
   "outputs": [
    {
     "data": {
      "image/png": "[encoded data removed]",
      "text/plain": [
       "<matplotlib.figure.Figure at 0x7f486021e978>"
      ]
     },
     "metadata": {},
     "output_type": "display_data"
    }
   ],
   "source": [
    "%matplotlib inline\n",
    "import numpy as np\n",
    "import matplotlib.pyplot as plt \n",
    "from scipy.signal import lfilter\n",
    "d=np.zeros(100); d[0]=1 #dirac impulse\n",
    "alist=[0.2, 0.8, 0.9, 0.95, 0.99, 0.999, 1.001, 1.01]\n",
    "for a in alist:\n",
    "    h=lfilter([1], [1, -a],d)\n",
    "    _=plt.plot(h, label=\"a={}\".format(a))\n",
    "plt.ylim([0,1.5])\n",
    "plt.xlabel('Time')\n",
    "_=plt.legend()"
   ]
  },
  {
   "cell_type": "markdown",
   "metadata": {},
   "source": [
    "## 2.4 Third example:"
   ]
  },
  {
   "cell_type": "markdown",
   "metadata": {},
   "source": [
    "This example shows that environments like itemize or enumerate are also available. As already indicated, this is useful for copying text from a TeX file. Following the same idea, text formating commands `\\textit`, `\\textbf`, `\\underline`, etc are also available."
   ]
  },
  {
   "cell_type": "markdown",
   "metadata": {},
   "source": [
    "\\begin{listing}\n",
    "The following \\textit{environments} are available:\n",
    "\\begin{itemize}\n",
    "    \\item \\textbf{Theorems and likes}\n",
    "    \\begin{enumerate}\n",
    "        \\item theorem,\n",
    "        \\item lemma,\n",
    "        \\item corollary\n",
    "        \\item ...\n",
    "    \\end{enumerate}\n",
    "    \\item \\textbf{exercises}\n",
    "    \\begin{enumerate}\n",
    "        \\item problem,\n",
    "        \\item example,\n",
    "        \\item exercise\n",
    "    \\end{enumerate}\n",
    "\\end{itemize}\n",
    "\\end{listing}"
   ]
  },
  {
   "cell_type": "markdown",
   "metadata": {},
   "source": [
    "which gives... \n",
    "\n",
    "The following \\textit{environments} are available:\n",
    "\\begin{itemize}\n",
    "\\item \\textbf{Theorems and likes}\n",
    "\\begin{enumerate}\n",
    "\\item theorem,\n",
    "\\item lemma,\n",
    "\\item corollary\n",
    "\\item ...\n",
    "\\end{enumerate}\n",
    "\\item \\textbf{exercises}\n",
    "\\begin{enumerate}\n",
    "\\item problem,\n",
    "\\item example,\n",
    "\\item exercise\n",
    "\\end{enumerate}\n",
    "\\end{itemize}"
   ]
  },
  {
   "cell_type": "markdown",
   "metadata": {},
   "source": [
    "# 3. (post)-Converters"
   ]
  },
  {
   "cell_type": "markdown",
   "metadata": {},
   "source": [
    "The extension works in the live-notebook. Since it relies on a bunch of javascript, the notebook does not render as is in very nice services such as `nbviewer` or `github` viewer. Similarly, `nbconvert` does not know of the LaTeX constructs which are used and therefore do not fully convert notebooks making use of this extension. Therefore, it is necessary to add a post conversion step to conversions provided by `nbconvert`. Though an interface exists for adding post-converters to nbconvert, this (first) author was too lazy and not enough strong to implement the post conversion along these lines. What has be done are simple `bash` and `python` scripts that perform this conversion."
   ]
  },
  {
   "cell_type": "markdown",
   "metadata": {},
   "source": [
    "## 3.1 Installation"
   ]
  },
  {
   "cell_type": "markdown",
   "metadata": {},
   "source": [
    "Copy the scripts files to a directory in your search path, or launch the scripts with the complete path. The two main scripts are `ipynb_thms_to_html` (conversion to html, of course:) and `ipynb_thms_to_latex`  (conversion to LaTeX!)."
   ]
  },
  {
   "cell_type": "markdown",
   "metadata": {},
   "source": [
    "## 3.2 Conversion to html"
   ]
  },
  {
   "cell_type": "markdown",
   "metadata": {},
   "source": [
    "**Requirements**: You will need `perl`, `nodejs`, and `ipython3` (the script calls `ipython3`; if your interpreter is `ipython`, edit the script and replace the different occurences).\n",
    "\n",
    "**Configuration**: \n",
    "- If you still use IPython 3.x (not Jupyter), edit `ipynb_thms_to_html` and set the variable `stillIPython3=true`. IPython 3.x will also have to change the `nbextensionsDir` to `/.ipython/nbextensions` in the file `post_html_thms.js`. \n",
    "- Finally **all users** should check the path for their `marked.js` library as indicated in `post_html_thms.js`. On Debian, it is located \n",
    "`/usr/share/jupyter/notebook/static/components/marked/lib/marked.js`. It shoud be similar for other flavors of linux\n",
    "(may be `/usr/local/share/...`). \n",
    "You may locate the right library by issuing `locate -eb0P marked.js | xargs -r0 ls -ald` on the command line. Please update the variable `marked` for your system in `post_html_thms.js`. \n",
    "\n",
    "The conversion to html is done by something like \n",
    "\n",
    "        [path/]ipynb_thms_to_html filename\n",
    "or a list of files such as\n",
    "\n",
    "        [path/]ipynb_thms_to_html *.ipynb\n",
    "In turn, this script makes somes substitutions using `perl`, and then uses the `nodesj` javascript interpreter to make the very same substitutions that are done in the live notebook.\n",
    "The conversion uses the template `thmsInNb.tpl` (located in the script directory). It also copies the css `latex_env.css` in the directory of the output html file (it must be copied with html files in the case of web upload)."
   ]
  },
  {
   "cell_type": "markdown",
   "metadata": {},
   "source": [
    "## 3.3 Conversion to LaTeX"
   ]
  },
  {
   "cell_type": "markdown",
   "metadata": {},
   "source": [
    "**Requirements**: You will need `perl` and `ipython3`. \n",
    "\n",
    "The conversion to LaTeX is done by something like \n",
    "\n",
    "        [path/]ipynb_thms_to_latex filename\n",
    "or a list of files such as\n",
    "\n",
    "        [path/]ipynb_thms_to_latex *.ipynb\n",
    "        \n",
    "The script makes some substitutions and cleaning in markdown cells, then calls the legacy `nbconvert`. Afterward, it runs through the LaTeX environments and converts their contents (which can contain markdown markup) to  LaTeX. Note that the script contains a list of the LaTeX environments to process. In the case of the addition of an environment in the main javascript (`thmsInNb.js`), this list must also be updated. \n",
    "\n",
    "Finally, the script removes the header and footer in the LaTeX file. This is a personnal choice, and the corresponding line can be safely commented. \n",
    "\n",
    "\\begin{example}\n",
    "As for an example, the present document has been converted using\n",
    "    \n",
    "    ipynb_thms_to_latex latex_env_doc.ipynb\n",
    "    \n",
    "Then the resulting file (without header/footer) has been included in the main file `documentation.tex`, where some LaTeX definitions of environments are done (namely listings, colors, etc) and compiled using \n",
    "    \n",
    "    xelatex documentation\n",
    "    \n",
    "The output can be consulted [here](documentation.pdf).    \n",
    "\\end{example}"
   ]
  },
  {
   "cell_type": "markdown",
   "metadata": {},
   "source": [
    "# 4. Disclaimer, sources and thanks"
   ]
  },
  {
   "cell_type": "markdown",
   "metadata": {},
   "source": [
    "This is a not-quick but certainly dirty hack. I am a complete beginner in javascript and of course there are obviously a large amount of possible improvements of the code, in cleaning, factorizing, etc! Language also needs improvement. \n",
    "\n",
    "**Contributions will be welcome and deeply appreciated.** \n",
    "\n",
    "Originally, I used a piece of code from the nice online markdown editor `stackedit` [https://github.com/benweet/stackedit/issues/187](https://github.com/benweet/stackedit/issues/187), where the authors also considered the problem of incorporating LaTeX markup in their markdown. I also used examples and code from [https://github.com/ipython-contrib/IPython-notebook-extensions](https://github.com/ipython-contrib/IPython-notebook-extensions). \n"
   ]
  },
  {
   "cell_type": "markdown",
   "metadata": {},
   "source": [
    "# References\n",
    "\n",
    "(<a id=\"cit-PER-GRA:2007\" href=\"#call-PER-GRA:2007\">P\\'erez and Granger, 2007</a>) P\\'erez Fernando and Granger Brian E., ``_IPython: a System for Interactive Scientific Computing_'', Computing in Science and Engineering, vol. 9, number 3, pp. 21--29, May 2007.  [online](http://ipython.org)\n",
    "\n",
    "(<a id=\"cit-mckinney2012python\" href=\"#call-mckinney2012python\">McKinney, 2012</a>) Wes McKinney, ``_Python for data analysis: Data wrangling with Pandas, NumPy, and IPython_'',  2012.\n",
    "\n",
    "(<a id=\"cit-rossant2013learning\" href=\"#call-rossant2013learning\">Rossant, 2013</a>) Cyrille Rossant, ``_Learning IPython for interactive computing and data visualization_'',  2013.\n",
    "\n",
    "(<a id=\"cit-shen2014interactive\" href=\"#call-shen2014interactive\">Shen, 2014</a>) Shen Helen, ``_Interactive notebooks: Sharing the code_'', Nature, vol. 515, number 7525, pp. 151--152,  2014.\n",
    "\n"
   ]
  }
 ],
 "metadata": {
  "kernelspec": {
   "display_name": "Python 3",
   "language": "python",
   "name": "python3"
  },
  "language_info": {
   "codemirror_mode": {
    "name": "ipython",
    "version": 3
   },
   "file_extension": ".py",
   "mimetype": "text/x-python",
   "name": "python",
   "nbconvert_exporter": "python",
   "pygments_lexer": "ipython3",
   "version": "3.4.3+"
  },
  "latex_envs": {
   "bibliofile": " biblio_ipython.bib",
   "cite_by": "apalike",
   "current_citInitial": 1,
   "eqLabelWithNumbers": true,
   "eqNumInitial": 0
  }
 },
 "nbformat": 4,
 "nbformat_minor": 0
}
